{
 "cells": [
  {
   "cell_type": "markdown",
   "id": "5719f9a0-84d2-4905-8556-e410031672a4",
   "metadata": {},
   "source": [
    "# Bernoulli-Verteilung"
   ]
  },
  {
   "cell_type": "markdown",
   "id": "4793af51-5627-49a7-90c4-ccca05acd7c4",
   "metadata": {},
   "source": [
    "#### Defenition"
   ]
  },
  {
   "cell_type": "markdown",
   "id": "9e6e26f2-5aba-42cf-a5b5-fa6313a9475e",
   "metadata": {},
   "source": [
    "Die Bernouli- Verteilung kann nur zwei Werte annehmen und zwar 1 und 0 und wie bewertet man als 'Erfolg' und 'Misserfolg' "
   ]
  },
  {
   "cell_type": "markdown",
   "id": "58cc44d4-94b6-4f36-b1a1-846b4e00a7b2",
   "metadata": {},
   "source": [
    "Die Wahrscheinlichkeit dafür, dass man ein Erfolg hat ist : $$P(X=1)=p$$ und darum muss die Wahrscheinlichkeit, dass für Misserfolg $$P(X=0)=1-p$$\n",
    "weil es nur diesen beiden Werte gibt. zusammen muss es 1 ergiben"
   ]
  },
  {
   "cell_type": "markdown",
   "id": "364f5c3f-64ca-4a94-8985-69d3d77fb69e",
   "metadata": {},
   "source": [
    "Für diese Verteilung gibt es eine Schreibweise $X\\sim Ber_p~~$ und sagt man $X$ ist Bernouli verteilt zum Parameter $p$"
   ]
  },
  {
   "cell_type": "markdown",
   "id": "c73c1d30-cfb5-4212-9deb-63e1736de4ba",
   "metadata": {},
   "source": [
    "##### Bernoulli Verteilung ist die Basis für weitere Verteilungen"
   ]
  },
  {
   "cell_type": "markdown",
   "id": "541ffa16-8a38-4131-bdd5-37956aaf29d8",
   "metadata": {},
   "source": [
    "#### Erwartungswert"
   ]
  },
  {
   "cell_type": "markdown",
   "id": "0b94ca5f-d8f2-4721-9f41-f748f9a994dc",
   "metadata": {},
   "source": [
    "$$E(X)=1\\times p + 0\\times (1-p)=p$$"
   ]
  },
  {
   "cell_type": "markdown",
   "id": "751bf84a-abc9-4ed9-9f31-38c09579b876",
   "metadata": {},
   "source": [
    "#### Varianz"
   ]
  },
  {
   "cell_type": "markdown",
   "id": "3f199b7f-9d6c-434b-9d98-4f6ffb2fda04",
   "metadata": {},
   "source": [
    "$$Var(X)=(1-p)^2.p+(0-p)^2.(1-p) = p.(1-p)$$"
   ]
  },
  {
   "cell_type": "markdown",
   "id": "314a00ee-d008-42ff-82dd-d88f6edc1c5b",
   "metadata": {},
   "source": [
    "#### Beispiel:\n",
    "Angenommen Sie werfen ein Würfelspiel bei dem es darum geht eine 5 zu erhalten also 5 ist Erfolg alles anderes ist Misserfolg.\n",
    "$$\\begin{cases}\n",
    "1 =: (X=5) &\\\\\n",
    "0 =: (X=k),&k\\in \\{1,~2,~3,~4,~6\\}  &\\\\  \n",
    "\\end{cases}\n",
    "$$\n",
    "\n",
    "Die Wahrscheinlichkeit für Erfolg ist: $$P(X=1)=\\frac{1}{6}$$\n",
    "Die Wahrscheinlichkeit für Misserfolg ist: $$P(X=0)=1-P(X=1)=\\frac{5}{6}$$\n",
    "Der Erwartungswert $E(X)=\\frac{1}{6}$\n",
    "\n",
    "Die Varianz $Var(X)=\\frac{1}{6}.\\frac{5}{6}$"
   ]
  },
  {
   "cell_type": "markdown",
   "id": "1841057a-f7d6-4725-90a4-e4e33def40ae",
   "metadata": {},
   "source": [
    "## Berechnung mit Python"
   ]
  },
  {
   "cell_type": "code",
   "execution_count": 1,
   "id": "827448b0-8610-4d8f-b782-e33a55f14141",
   "metadata": {},
   "outputs": [],
   "source": [
    "from scipy.stats import bernoulli\n",
    "import numpy as np\n",
    "import matplotlib.pyplot as plt"
   ]
  },
  {
   "cell_type": "code",
   "execution_count": 2,
   "id": "1ed6f079-8b48-43aa-aba4-8c5bfcd63b1c",
   "metadata": {},
   "outputs": [],
   "source": [
    "ber = bernoulli(1/6)"
   ]
  },
  {
   "cell_type": "markdown",
   "id": "d06f0822-dd91-4db9-8ec7-1a72f7d829b8",
   "metadata": {},
   "source": [
    "### Wahrscheinlichkeitsfunktion (pmf)"
   ]
  },
  {
   "cell_type": "code",
   "execution_count": 3,
   "id": "0f3d11d7-d6b0-41be-bd6e-2566b46ffb8e",
   "metadata": {},
   "outputs": [
    {
     "data": {
      "text/plain": [
       "0.16666666666666666"
      ]
     },
     "execution_count": 3,
     "metadata": {},
     "output_type": "execute_result"
    }
   ],
   "source": [
    "# P(X=1)=?\n",
    "ber.pmf(1)"
   ]
  },
  {
   "cell_type": "code",
   "execution_count": 4,
   "id": "2681c1e3-8a72-443b-a3ed-b5eab40ea065",
   "metadata": {},
   "outputs": [
    {
     "data": {
      "text/plain": [
       "0.8333333333333334"
      ]
     },
     "execution_count": 4,
     "metadata": {},
     "output_type": "execute_result"
    }
   ],
   "source": [
    "# P(X=0)=?\n",
    "ber.pmf(0)"
   ]
  },
  {
   "cell_type": "markdown",
   "id": "15d82963-420a-48a2-b7d1-3bfb9339145c",
   "metadata": {},
   "source": [
    "### Wahrscheinlichkeitsfunktion ploten"
   ]
  },
  {
   "cell_type": "code",
   "execution_count": 5,
   "id": "8a3def27-e62e-4927-9278-e5111bf69475",
   "metadata": {},
   "outputs": [
    {
     "data": {
      "image/png": "[encoded data removed]",
      "text/plain": [
       "<Figure size 640x480 with 1 Axes>"
      ]
     },
     "metadata": {},
     "output_type": "display_data"
    }
   ],
   "source": [
    "def prob_mass_fct(verteilung, start, end):\n",
    "    x = np.arange(start, end + 1, 0.1)  # Define x values with step size 0.1\n",
    "    y = verteilung.pmf(x)\n",
    "    plt.bar(x, y)\n",
    "    plt.title(\"Probability Mass Function\")\n",
    "    plt.xlabel(\"Anzahl der Erfolge\")\n",
    "    plt.ylabel(\"Probability\")\n",
    "    plt.show()\n",
    "prob_mass_fct(ber, 0, 1)"
   ]
  },
  {
   "cell_type": "markdown",
   "id": "832b54f3-5e59-4840-a92a-a8d5746424aa",
   "metadata": {},
   "source": [
    "#### Erwartungswert"
   ]
  },
  {
   "cell_type": "code",
   "execution_count": 6,
   "id": "c74a333d-812d-42f4-82f3-bfa7f7d2b31e",
   "metadata": {},
   "outputs": [
    {
     "data": {
      "text/plain": [
       "0.16666666666666666"
      ]
     },
     "execution_count": 6,
     "metadata": {},
     "output_type": "execute_result"
    }
   ],
   "source": [
    "# E(X)=?\n",
    "ber.expect()"
   ]
  },
  {
   "cell_type": "markdown",
   "id": "8406772d-f70f-4362-b904-52d0908cc2bd",
   "metadata": {},
   "source": [
    "#### Varianz"
   ]
  },
  {
   "cell_type": "code",
   "execution_count": 7,
   "id": "d20c63f3-dae9-4148-b2c2-4a953ddac423",
   "metadata": {},
   "outputs": [
    {
     "data": {
      "text/plain": [
       "0.1388888888888889"
      ]
     },
     "execution_count": 7,
     "metadata": {},
     "output_type": "execute_result"
    }
   ],
   "source": [
    "# Var(X)=?\n",
    "ber.var()"
   ]
  },
  {
   "cell_type": "markdown",
   "id": "da83e69a-ff0e-4d6a-b3cd-4391782d135f",
   "metadata": {},
   "source": [
    "### Standardabweichung"
   ]
  },
  {
   "cell_type": "markdown",
   "id": "b605c54e-b176-4ae3-a114-08c26d0245eb",
   "metadata": {},
   "source": [
    "$\\sigma =?$"
   ]
  },
  {
   "cell_type": "code",
   "execution_count": 8,
   "id": "f54e47e6-6ac9-4856-98ba-2f2ea72e9ad0",
   "metadata": {},
   "outputs": [
    {
     "data": {
      "text/plain": [
       "0.37267799624996495"
      ]
     },
     "execution_count": 8,
     "metadata": {},
     "output_type": "execute_result"
    }
   ],
   "source": [
    "ber.std()"
   ]
  },
  {
   "cell_type": "markdown",
   "id": "b989840d-004c-4153-8051-d8ba2c92ef6f",
   "metadata": {},
   "source": [
    "### Verteilungsfunktion( cdf)\n",
    "$F(x)$"
   ]
  },
  {
   "cell_type": "code",
   "execution_count": 9,
   "id": "25efd1cb-c76e-4018-8c48-b5b834bc6ebc",
   "metadata": {},
   "outputs": [
    {
     "data": {
      "text/plain": [
       "1.0"
      ]
     },
     "execution_count": 9,
     "metadata": {},
     "output_type": "execute_result"
    }
   ],
   "source": [
    "# F(1)\n",
    "ber.cdf(1)"
   ]
  },
  {
   "cell_type": "code",
   "execution_count": 10,
   "id": "0ddb8bd9-1ce3-47d3-9571-a644bc094c54",
   "metadata": {},
   "outputs": [
    {
     "data": {
      "text/plain": [
       "0.8333333333333334"
      ]
     },
     "execution_count": 10,
     "metadata": {},
     "output_type": "execute_result"
    }
   ],
   "source": [
    "# F(0)=?\n",
    "ber.cdf(0)"
   ]
  },
  {
   "cell_type": "markdown",
   "id": "7734d1e8-68c1-4ba4-b48a-5fc3fcb18599",
   "metadata": {},
   "source": [
    "### Verteilungsfunktion ploten"
   ]
  },
  {
   "cell_type": "code",
   "execution_count": 11,
   "id": "4e4fc9c5-0b1f-4ab1-a950-57b7255f0964",
   "metadata": {
    "scrolled": true
   },
   "outputs": [],
   "source": [
    "def cdf_fct(verteilung, interval, samples=100):\n",
    "    x = np.linspace(interval[0], interval[1], samples)\n",
    "    y = verteilung.cdf(x)\n",
    "    plt.plot(x, y)\n",
    "    plt.title('Verteilungsfunktion von Bernoulliverteilung')\n",
    "    plt.xlabel('Anzahl der Erfolge')\n",
    "    plt.ylabel('Cumulative Probability')\n",
    "    plt.show()"
   ]
  },
  {
   "cell_type": "code",
   "execution_count": 12,
   "id": "63a6cc6f-41ba-4329-81fc-c08bb1a911e5",
   "metadata": {},
   "outputs": [
    {
     "data": {
      "image/png": "[encoded data removed]",
      "text/plain": [
       "<Figure size 640x480 with 1 Axes>"
      ]
     },
     "metadata": {},
     "output_type": "display_data"
    }
   ],
   "source": [
    "cdf_fct(ber, [-1, 2], samples=1000)"
   ]
  },
  {
   "cell_type": "markdown",
   "id": "4325cfa0-c6c7-44c1-a700-479d5d38957a",
   "metadata": {},
   "source": [
    "### Werte einer bestimmten Verteilung zufällig auswählen"
   ]
  },
  {
   "cell_type": "markdown",
   "id": "83f159d5-1b5a-4d54-aa23-bc62a8691530",
   "metadata": {},
   "source": [
    "Wenn wir Zufallswerte brauchen die eine bestimmte Verteilung folgen dann könnten wir die Methode .rvs() verenden"
   ]
  },
  {
   "cell_type": "code",
   "execution_count": 13,
   "id": "11aa0fb3-618e-42bc-b818-ebd1834ce033",
   "metadata": {},
   "outputs": [
    {
     "data": {
      "text/plain": [
       "array([1, 1, 1, 1, 1, 1, 1, 1, 1, 1], dtype=int64)"
      ]
     },
     "execution_count": 13,
     "metadata": {},
     "output_type": "execute_result"
    }
   ],
   "source": [
    "# Beispiel für Werte die zufällig ausgewählt werden und Bernouli verteilt sind\n",
    "ber2 = bernoulli(0.9)\n",
    "ber2.rvs(10)"
   ]
  },
  {
   "cell_type": "code",
   "execution_count": null,
   "id": "a3e5e2d3-c57c-4882-a67a-033ade6a30aa",
   "metadata": {},
   "outputs": [],
   "source": []
  }
 ],
 "metadata": {
  "kernelspec": {
   "display_name": "Python 3 (ipykernel)",
   "language": "python",
   "name": "python3"
  },
  "language_info": {
   "codemirror_mode": {
    "name": "ipython",
    "version": 3
   },
   "file_extension": ".py",
   "mimetype": "text/x-python",
   "name": "python",
   "nbconvert_exporter": "python",
   "pygments_lexer": "ipython3",
   "version": "3.11.7"
  }
 },
 "nbformat": 4,
 "nbformat_minor": 5
}
